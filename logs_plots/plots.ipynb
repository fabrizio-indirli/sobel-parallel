{
 "cells": [
  {
   "cell_type": "code",
   "execution_count": 2,
   "metadata": {},
   "outputs": [],
   "source": [
    "%matplotlib inline"
   ]
  },
  {
   "cell_type": "code",
   "execution_count": 3,
   "metadata": {},
   "outputs": [],
   "source": [
    "import matplotlib.pyplot as plt\n",
    "import numpy as np\n",
    "import pandas as pd"
   ]
  },
  {
   "cell_type": "code",
   "execution_count": 18,
   "metadata": {},
   "outputs": [],
   "source": [
    "original = pd.read_csv('original.csv')\n",
    "omp_1st = pd.read_csv('omp_1st.csv')\n",
    "omp_2nd = pd.read_csv('omp_2nd.csv')"
   ]
  },
  {
   "cell_type": "code",
   "execution_count": 14,
   "metadata": {},
   "outputs": [
    {
     "data": {
      "text/html": [
       "<div>\n",
       "<style scoped>\n",
       "    .dataframe tbody tr th:only-of-type {\n",
       "        vertical-align: middle;\n",
       "    }\n",
       "\n",
       "    .dataframe tbody tr th {\n",
       "        vertical-align: top;\n",
       "    }\n",
       "\n",
       "    .dataframe thead th {\n",
       "        text-align: right;\n",
       "    }\n",
       "</style>\n",
       "<table border=\"1\" class=\"dataframe\">\n",
       "  <thead>\n",
       "    <tr style=\"text-align: right;\">\n",
       "      <th></th>\n",
       "      <th>import_time</th>\n",
       "      <th>gray_time</th>\n",
       "      <th>blur_time</th>\n",
       "      <th>sobel_time</th>\n",
       "      <th>filters_time</th>\n",
       "      <th>export_time</th>\n",
       "      <th>Unnamed: 6</th>\n",
       "    </tr>\n",
       "  </thead>\n",
       "  <tbody>\n",
       "    <tr>\n",
       "      <th>0</th>\n",
       "      <td>0.018257</td>\n",
       "      <td>0.001817</td>\n",
       "      <td>0.107914</td>\n",
       "      <td>0.013376</td>\n",
       "      <td>0.123168</td>\n",
       "      <td>0.231033</td>\n",
       "      <td>NaN</td>\n",
       "    </tr>\n",
       "    <tr>\n",
       "      <th>1</th>\n",
       "      <td>0.023422</td>\n",
       "      <td>0.003297</td>\n",
       "      <td>0.212414</td>\n",
       "      <td>0.014815</td>\n",
       "      <td>0.230570</td>\n",
       "      <td>0.144391</td>\n",
       "      <td>NaN</td>\n",
       "    </tr>\n",
       "    <tr>\n",
       "      <th>2</th>\n",
       "      <td>0.000685</td>\n",
       "      <td>0.000064</td>\n",
       "      <td>0.000579</td>\n",
       "      <td>0.000294</td>\n",
       "      <td>0.000961</td>\n",
       "      <td>0.001272</td>\n",
       "      <td>NaN</td>\n",
       "    </tr>\n",
       "    <tr>\n",
       "      <th>3</th>\n",
       "      <td>0.015747</td>\n",
       "      <td>0.001873</td>\n",
       "      <td>0.060929</td>\n",
       "      <td>0.006841</td>\n",
       "      <td>0.069694</td>\n",
       "      <td>0.076114</td>\n",
       "      <td>NaN</td>\n",
       "    </tr>\n",
       "    <tr>\n",
       "      <th>4</th>\n",
       "      <td>0.006744</td>\n",
       "      <td>0.001126</td>\n",
       "      <td>0.053456</td>\n",
       "      <td>0.006089</td>\n",
       "      <td>0.060726</td>\n",
       "      <td>0.021433</td>\n",
       "      <td>NaN</td>\n",
       "    </tr>\n",
       "  </tbody>\n",
       "</table>\n",
       "</div>"
      ],
      "text/plain": [
       "   import_time  gray_time  blur_time  sobel_time  filters_time  export_time  \\\n",
       "0     0.018257   0.001817   0.107914    0.013376      0.123168     0.231033   \n",
       "1     0.023422   0.003297   0.212414    0.014815      0.230570     0.144391   \n",
       "2     0.000685   0.000064   0.000579    0.000294      0.000961     0.001272   \n",
       "3     0.015747   0.001873   0.060929    0.006841      0.069694     0.076114   \n",
       "4     0.006744   0.001126   0.053456    0.006089      0.060726     0.021433   \n",
       "\n",
       "   Unnamed: 6  \n",
       "0         NaN  \n",
       "1         NaN  \n",
       "2         NaN  \n",
       "3         NaN  \n",
       "4         NaN  "
      ]
     },
     "execution_count": 14,
     "metadata": {},
     "output_type": "execute_result"
    }
   ],
   "source": [
    "original.head()"
   ]
  },
  {
   "cell_type": "code",
   "execution_count": 15,
   "metadata": {},
   "outputs": [],
   "source": [
    "header = list(original.keys())[:-1]"
   ]
  },
  {
   "cell_type": "code",
   "execution_count": 16,
   "metadata": {},
   "outputs": [
    {
     "data": {
      "text/plain": [
       "['import_time',\n",
       " 'gray_time',\n",
       " 'blur_time',\n",
       " 'sobel_time',\n",
       " 'filters_time',\n",
       " 'export_time']"
      ]
     },
     "execution_count": 16,
     "metadata": {},
     "output_type": "execute_result"
    }
   ],
   "source": [
    "header"
   ]
  },
  {
   "cell_type": "code",
   "execution_count": 19,
   "metadata": {},
   "outputs": [
    {
     "data": {
      "text/plain": [
       "((300, 7), (300, 7), (300, 7))"
      ]
     },
     "execution_count": 19,
     "metadata": {},
     "output_type": "execute_result"
    }
   ],
   "source": [
    "original.shape, omp_1st.shape, omp_2nd.shape"
   ]
  },
  {
   "cell_type": "code",
   "execution_count": 26,
   "metadata": {},
   "outputs": [],
   "source": [
    "# into np.array\n",
    "original = np.array(original)\n",
    "omp_1st = np.array(omp_1st)\n",
    "omp_2nd = np.array(omp_2nd)"
   ]
  },
  {
   "cell_type": "code",
   "execution_count": 63,
   "metadata": {},
   "outputs": [],
   "source": [
    "df_origin = np.zeros((20,0))\n",
    "df_omp_1st = np.zeros((20,0))\n",
    "df_omp_2nd = np.zeros((20,0))\n",
    "\n",
    "for i in range(15):\n",
    "    df_origin = np.concatenate([df_origin, np.array(original)[i::15,4][np.newaxis].T], axis=-1)\n",
    "    df_omp_1st = np.concatenate([df_omp_1st, np.array(omp_1st)[i::15,4][np.newaxis].T], axis=-1)\n",
    "    df_omp_2nd = np.concatenate([df_omp_2nd, np.array(omp_2nd)[i::15,4][np.newaxis].T], axis=-1)\n",
    "df_origin = pd.DataFrame(df_origin)\n",
    "df_omp_1st = pd.DataFrame(df_omp_1st)\n",
    "df_omp_2nd = pd.DataFrame(df_omp_2nd)"
   ]
  },
  {
   "cell_type": "code",
   "execution_count": 64,
   "metadata": {
    "scrolled": true
   },
   "outputs": [
    {
     "data": {
      "text/plain": [
       "(20, 15)"
      ]
     },
     "execution_count": 64,
     "metadata": {},
     "output_type": "execute_result"
    }
   ],
   "source": [
    "df_origin.shape"
   ]
  },
  {
   "cell_type": "code",
   "execution_count": 74,
   "metadata": {},
   "outputs": [
    {
     "data": {
      "text/plain": [
       "<matplotlib.axes._subplots.AxesSubplot at 0x7fde2d2d3b38>"
      ]
     },
     "execution_count": 74,
     "metadata": {},
     "output_type": "execute_result"
    },
    {
     "data": {
      "image/png": "[encoded data removed]",
      "text/plain": [
       "<Figure size 1296x360 with 3 Axes>"
      ]
     },
     "metadata": {
      "needs_background": "light"
     },
     "output_type": "display_data"
    }
   ],
   "source": [
    "fig, (ax0,ax1,ax2) = plt.subplots(ncols=3, sharey=True, figsize=(18,5))\n",
    "df_origin.boxplot(ax=ax0)\n",
    "df_omp_1st.boxplot(ax=ax1)\n",
    "df_omp_2nd.boxplot(ax=ax2)\n",
    "# ax0.set_ylim(top=1)"
   ]
  }
 ],
 "metadata": {
  "kernelspec": {
   "display_name": "Python 3",
   "language": "python",
   "name": "python3"
  },
  "language_info": {
   "codemirror_mode": {
    "name": "ipython",
    "version": 3
   },
   "file_extension": ".py",
   "mimetype": "text/x-python",
   "name": "python",
   "nbconvert_exporter": "python",
   "pygments_lexer": "ipython3",
   "version": "3.7.1"
  }
 },
 "nbformat": 4,
 "nbformat_minor": 2
}

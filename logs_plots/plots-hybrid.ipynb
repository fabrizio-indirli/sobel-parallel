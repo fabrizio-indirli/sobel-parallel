{
 "cells": [
  {
   "cell_type": "code",
   "execution_count": 1,
   "metadata": {},
   "outputs": [],
   "source": [
    "%matplotlib inline"
   ]
  },
  {
   "cell_type": "code",
   "execution_count": 2,
   "metadata": {},
   "outputs": [],
   "source": [
    "import matplotlib.pyplot as plt\n",
    "import numpy as np\n",
    "import pandas as pd"
   ]
  },
  {
   "cell_type": "code",
   "execution_count": 3,
   "metadata": {},
   "outputs": [],
   "source": [
    "font = {'size'   : 14}\n",
    "\n",
    "plt.rc('font', **font)"
   ]
  },
  {
   "cell_type": "code",
   "execution_count": 18,
   "metadata": {},
   "outputs": [],
   "source": [
    "original = pd.read_csv('original.csv')\n",
    "hybrid = pd.read_csv('plog_hybrid_n4_N1-new5.csv')"
   ]
  },
  {
   "cell_type": "code",
   "execution_count": 19,
   "metadata": {},
   "outputs": [],
   "source": [
    "df = []\n",
    "for i in range(5):\n",
    "    L = []\n",
    "    for j in range(15):\n",
    "        L.append(hybrid['filters_time'][i*15+j])\n",
    "    df.append(L)\n",
    "hybrid = np.array(df)"
   ]
  },
  {
   "cell_type": "code",
   "execution_count": 22,
   "metadata": {},
   "outputs": [],
   "source": [
    "header = list(original.keys())[:-1]"
   ]
  },
  {
   "cell_type": "code",
   "execution_count": 23,
   "metadata": {},
   "outputs": [
    {
     "data": {
      "text/plain": [
       "['import_time',\n",
       " 'gray_time',\n",
       " 'blur_time',\n",
       " 'sobel_time',\n",
       " 'filters_time',\n",
       " 'export_time']"
      ]
     },
     "execution_count": 23,
     "metadata": {},
     "output_type": "execute_result"
    }
   ],
   "source": [
    "header"
   ]
  },
  {
   "cell_type": "code",
   "execution_count": 25,
   "metadata": {},
   "outputs": [],
   "source": [
    "# into np.array\n",
    "original = np.array(original)"
   ]
  },
  {
   "cell_type": "code",
   "execution_count": 26,
   "metadata": {},
   "outputs": [],
   "source": [
    "df_origin = np.zeros((20,0))\n",
    "\n",
    "for i in range(15):\n",
    "    df_origin = np.concatenate([df_origin, np.array(original)[i::15,4][np.newaxis].T], axis=-1)\n",
    "df_origin = pd.DataFrame(df_origin)"
   ]
  },
  {
   "cell_type": "code",
   "execution_count": 33,
   "metadata": {
    "scrolled": true
   },
   "outputs": [
    {
     "data": {
      "text/plain": [
       "((20, 15), (5, 15))"
      ]
     },
     "execution_count": 33,
     "metadata": {},
     "output_type": "execute_result"
    }
   ],
   "source": [
    "df_origin.shape, hybrid.shape"
   ]
  },
  {
   "cell_type": "code",
   "execution_count": 30,
   "metadata": {},
   "outputs": [],
   "source": [
    "speed_up = []\n",
    "for i in range(15):\n",
    "    speed_up.append(df_origin.mean()[i]/ hybrid.mean(axis=0)[i])\n"
   ]
  },
  {
   "cell_type": "code",
   "execution_count": 31,
   "metadata": {},
   "outputs": [
    {
     "data": {
      "text/plain": [
       "[0.46686762318329567,\n",
       " 1.6797665306376397,\n",
       " 0.07340343829385004,\n",
       " 1.3289132221808542,\n",
       " 0.26957615298397847,\n",
       " 2.5475091877478775,\n",
       " 2.307923776305545,\n",
       " 0.07212867728378676,\n",
       " 0.21844106170668892,\n",
       " 0.9002359490534697,\n",
       " 0.5822334254205679,\n",
       " 0.15981327366465156,\n",
       " 0.2815907676049651,\n",
       " 1.365329692455232,\n",
       " 1.725038992284779]"
      ]
     },
     "execution_count": 31,
     "metadata": {},
     "output_type": "execute_result"
    }
   ],
   "source": [
    "speed_up"
   ]
  },
  {
   "cell_type": "code",
   "execution_count": 32,
   "metadata": {},
   "outputs": [
    {
     "data": {
      "image/png": "[encoded data removed]",
      "text/plain": [
       "<Figure size 504x432 with 1 Axes>"
      ]
     },
     "metadata": {
      "needs_background": "light"
     },
     "output_type": "display_data"
    }
   ],
   "source": [
    "fig, ax = plt.subplots(figsize=(7,6))\n",
    "ax.bar(np.arange(len(speed_up)), speed_up)\n",
    "ax.hlines(1, -1, 15, 'r', linestyles='dashed')\n",
    "ax.set_xticks(np.arange(0,15));\n",
    "ax.set_xticklabels(np.arange(1,16));\n",
    "ax.set_title('Speedup for each input file\\n(pixel level)');\n",
    "ax.set_xlabel('input file id');\n",
    "ax.set_ylabel('Execution speedup');"
   ]
  },
  {
   "cell_type": "code",
   "execution_count": null,
   "metadata": {},
   "outputs": [],
   "source": []
  }
 ],
 "metadata": {
  "kernelspec": {
   "display_name": "Python 3",
   "language": "python",
   "name": "python3"
  },
  "language_info": {
   "codemirror_mode": {
    "name": "ipython",
    "version": 3
   },
   "file_extension": ".py",
   "mimetype": "text/x-python",
   "name": "python",
   "nbconvert_exporter": "python",
   "pygments_lexer": "ipython3",
   "version": "3.7.1"
  }
 },
 "nbformat": 4,
 "nbformat_minor": 2
}
